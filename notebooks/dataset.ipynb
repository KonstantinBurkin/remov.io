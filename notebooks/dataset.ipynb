{
 "cells": [
  {
   "cell_type": "code",
   "execution_count": 1,
   "metadata": {},
   "outputs": [],
   "source": [
    "import pandas as pd\n",
    "import numpy as np\n",
    "from PIL import Image, ImageFile"
   ]
  },
  {
   "cell_type": "code",
   "execution_count": null,
   "metadata": {},
   "outputs": [],
   "source": [
    "# download archive from kaggle\n",
    "!kaggle datasets download -d felicepollano/watermarked-not-watermarked-images\n",
    "\n",
    "# unzip and remove archive\n",
    "!unzip watermarked-not-watermarked-images.zip -d ../data\n",
    "!rm watermarked-not-watermarked-images.zip"
   ]
  },
  {
   "cell_type": "code",
   "execution_count": 3,
   "metadata": {},
   "outputs": [],
   "source": [
    "im = Image.open(\"../data/wm-nowm/train/no-watermark/africa-animal-big-carnivore-41178.jpeg\")\n",
    " \n",
    "im.show()"
   ]
  },
  {
   "cell_type": "code",
   "execution_count": null,
   "metadata": {},
   "outputs": [],
   "source": [
    "'''Please NOTE Some images appear to be corrupted, rare case, but this break ImageDataLoader. \n",
    "In order to solve this, before consuming the images use the following code:'''\n",
    "\n",
    "# ImageFile.LOAD_TRUNCATED_IMAGES = True"
   ]
  }
 ],
 "metadata": {
  "kernelspec": {
   "display_name": "venv",
   "language": "python",
   "name": "python3"
  },
  "language_info": {
   "codemirror_mode": {
    "name": "ipython",
    "version": 3
   },
   "file_extension": ".py",
   "mimetype": "text/x-python",
   "name": "python",
   "nbconvert_exporter": "python",
   "pygments_lexer": "ipython3",
   "version": "3.9.12"
  },
  "orig_nbformat": 4
 },
 "nbformat": 4,
 "nbformat_minor": 2
}
